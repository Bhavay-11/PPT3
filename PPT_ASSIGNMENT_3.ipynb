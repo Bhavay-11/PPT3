{
 "cells": [
  {
   "cell_type": "markdown",
   "id": "780fb44e",
   "metadata": {},
   "source": [
    "Question 1\n",
    "Given an integer array nums of length n and an integer target, find three integers\n",
    "in nums such that the sum is closest to the target.\n",
    "Return the sum of the three integers.\n",
    "\n",
    "You may assume that each input would have exactly one solution.\n",
    "\n",
    "Example 1:\n",
    "Input: nums = [-1,2,1,-4], target = 1\n",
    "Output: 2\n",
    "\n",
    "Explanation: The sum that is closest to the target is 2. (-1 + 2 + 1 = 2)."
   ]
  },
  {
   "cell_type": "code",
   "execution_count": 1,
   "id": "278be9e4",
   "metadata": {},
   "outputs": [],
   "source": [
    "def three_sum_closest(nums, target):\n",
    "  \"\"\"\n",
    "  Find three integers in nums such that the sum is closest to target.\n",
    "\n",
    "  Args:\n",
    "    nums: An array of integers.\n",
    "    target: The target sum.\n",
    "\n",
    "  Returns:\n",
    "    The sum of the three integers that is closest to target.\n",
    "  \"\"\"\n",
    "\n",
    "  nums.sort()\n",
    "  min_diff = float(\"inf\")\n",
    "  best_sum = None\n",
    "\n",
    "  for i in range(len(nums)):\n",
    "    for j in range(i + 1, len(nums)):\n",
    "      for k in range(j + 1, len(nums)):\n",
    "        curr_sum = nums[i] + nums[j] + nums[k]\n",
    "        diff = abs(target - curr_sum)\n",
    "\n",
    "        if diff < min_diff:\n",
    "          min_diff = diff\n",
    "          best_sum = curr_sum\n",
    "\n",
    "  return best_sum\n"
   ]
  },
  {
   "cell_type": "code",
   "execution_count": 2,
   "id": "a280fb7d",
   "metadata": {},
   "outputs": [
    {
     "name": "stdout",
     "output_type": "stream",
     "text": [
      "2\n"
     ]
    }
   ],
   "source": [
    "nums = [-1, 2, 1, -4]\n",
    "target = 1\n",
    "\n",
    "print(three_sum_closest(nums, target))\n"
   ]
  },
  {
   "cell_type": "markdown",
   "id": "ee5c42a8",
   "metadata": {},
   "source": [
    "Question 2\n",
    "Given an array nums of n integers, return an array of all the unique quadruplets\n",
    "[nums[a], nums[b], nums[c], nums[d]] such that:\n",
    "           ● 0 <= a, b, c, d < n\n",
    "           ● a, b, c, and d are distinct.\n",
    "           ● nums[a] + nums[b] + nums[c] + nums[d] == target\n",
    "\n",
    "You may return the answer in any order.\n",
    "\n",
    "Example 1:\n",
    "Input: nums = [1,0,-1,0,-2,2], target = 0\n",
    "Output: [[-2,-1,1,2],[-2,0,0,2],[-1,0,0,1]]"
   ]
  },
  {
   "cell_type": "code",
   "execution_count": 3,
   "id": "c603bf7c",
   "metadata": {},
   "outputs": [],
   "source": [
    "def four_sum(nums, target):\n",
    "  \"\"\"\n",
    "  Find all quadruplets in nums such that the sum is equal to target.\n",
    "\n",
    "  Args:\n",
    "    nums: An array of integers.\n",
    "    target: The target sum.\n",
    "\n",
    "  Returns:\n",
    "    A list of all the quadruplets that sum to target.\n",
    "  \"\"\"\n",
    "\n",
    "  nums.sort()\n",
    "  results = []\n",
    "\n",
    "  for i in range(len(nums)):\n",
    "    for j in range(i + 1, len(nums)):\n",
    "      for k in range(j + 1, len(nums)):\n",
    "        for l in range(k + 1, len(nums)):\n",
    "          if nums[i] + nums[j] + nums[k] + nums[l] == target:\n",
    "            results.append([nums[i], nums[j], nums[k], nums[l]])\n",
    "\n",
    "  return results\n"
   ]
  },
  {
   "cell_type": "code",
   "execution_count": 4,
   "id": "29582fbc",
   "metadata": {},
   "outputs": [
    {
     "name": "stdout",
     "output_type": "stream",
     "text": [
      "[[-2, -1, 1, 2], [-2, 0, 0, 2], [-1, 0, 0, 1]]\n"
     ]
    }
   ],
   "source": [
    "nums = [1, 0, -1, 0, -2, 2]\n",
    "target = 0\n",
    "\n",
    "print(four_sum(nums, target))\n"
   ]
  },
  {
   "cell_type": "markdown",
   "id": "4e9c44e1",
   "metadata": {},
   "source": [
    "Question3\n",
    "A permutation of an array of integers is an arrangement of its members into a\n",
    "sequence or linear order.\n",
    "\n",
    "For example, for arr = [1,2,3], the following are all the permutations of arr:\n",
    "[1,2,3], [1,3,2], [2, 1, 3], [2, 3, 1], [3,1,2], [3,2,1].\n",
    "\n",
    "The next permutation of an array of integers is the next lexicographically greater\n",
    "permutation of its integer. More formally, if all the permutations of the array are\n",
    "sorted in one container according to their lexicographical order, then the next\n",
    "permutation of that array is the permutation that follows it in the sorted container.\n",
    "\n",
    "If such an arrangement is not possible, the array must be rearranged as thelowest possible order (i.e., sorted in ascending order).\n",
    "\n",
    "● For example, the next permutation of arr = [1,2,3] is [1,3,2].\n",
    "● Similarly, the next permutation of arr = [2,3,1] is [3,1,2].\n",
    "● While the next permutation of arr = [3,2,1] is [1,2,3] because [3,2,1] does not\n",
    "have a lexicographical larger rearrangement.\n",
    "\n",
    "Given an array of integers nums, find the next permutation of nums.\n",
    "The replacement must be in place and use only constant extra memory.\n",
    "\n",
    "Example 1:\n",
    "Input: nums = [1,2,3]\n",
    "Output: [1,3,2]"
   ]
  },
  {
   "cell_type": "code",
   "execution_count": 5,
   "id": "97c8ca15",
   "metadata": {},
   "outputs": [],
   "source": [
    "def next_permutation(nums):\n",
    "  \"\"\"Finds the next lexicographically greater permutation of the given array.\n",
    "\n",
    "  Args:\n",
    "    nums: A list of integers.\n",
    "\n",
    "  Returns:\n",
    "    A list of integers representing the next permutation of nums.\n",
    "  \"\"\"\n",
    "\n",
    "  n = len(nums)\n",
    "\n",
    "  # Find the first index i such that nums[i] < nums[i + 1].\n",
    "  i = n - 2\n",
    "  while i >= 0 and nums[i] >= nums[i + 1]:\n",
    "    i -= 1\n",
    "\n",
    "  # If no such index exists, then the array is in its last permutation.\n",
    "  if i < 0:\n",
    "    nums.reverse()\n",
    "    return nums\n",
    "\n",
    "  # Find the smallest number greater than nums[i] in the right half of the array.\n",
    "  j = n - 1\n",
    "  while nums[j] <= nums[i]:\n",
    "    j -= 1\n",
    "\n",
    "  # Swap nums[i] and nums[j].\n",
    "  nums[i], nums[j] = nums[j], nums[i]\n",
    "\n",
    "  # Reverse the right half of the array.\n",
    "  nums[i + 1:] = nums[i + 1:][::-1]\n",
    "\n",
    "  return nums\n"
   ]
  },
  {
   "cell_type": "code",
   "execution_count": 6,
   "id": "feea652c",
   "metadata": {},
   "outputs": [
    {
     "name": "stdout",
     "output_type": "stream",
     "text": [
      "[1, 3, 2]\n"
     ]
    }
   ],
   "source": [
    "nums = [1, 2, 3]\n",
    "next_permutation(nums)\n",
    "print(nums)\n"
   ]
  },
  {
   "cell_type": "markdown",
   "id": "b9ccd246",
   "metadata": {},
   "source": [
    "Question 4\n",
    "Given a sorted array of distinct integers and a target value, return the index if the\n",
    "target is found. If not, return the index where it would be if it were inserted in\n",
    "order.\n",
    "\n",
    "You must write an algorithm with O(log n) runtime complexity.\n",
    "\n",
    "Example 1:\n",
    "Input: nums = [1,3,5,6], target = 5\n",
    "Output: 2"
   ]
  },
  {
   "cell_type": "code",
   "execution_count": 7,
   "id": "f977162f",
   "metadata": {},
   "outputs": [],
   "source": [
    "def find_index(nums, target):\n",
    "  \"\"\"Finds the index of the target value in the given array.\n",
    "\n",
    "  Args:\n",
    "    nums: A list of integers.\n",
    "    target: The value to find.\n",
    "\n",
    "  Returns:\n",
    "    The index of the target value, or -1 if the target value is not found.\n",
    "  \"\"\"\n",
    "\n",
    "  low = 0\n",
    "  high = len(nums) - 1\n",
    "\n",
    "  while low <= high:\n",
    "    mid = (low + high) // 2\n",
    "\n",
    "    if nums[mid] == target:\n",
    "      return mid\n",
    "    elif nums[mid] < target:\n",
    "      low = mid + 1\n",
    "    else:\n",
    "      high = mid - 1\n",
    "\n",
    "  return -1\n"
   ]
  },
  {
   "cell_type": "code",
   "execution_count": 8,
   "id": "7637ab5f",
   "metadata": {},
   "outputs": [
    {
     "name": "stdout",
     "output_type": "stream",
     "text": [
      "2\n"
     ]
    }
   ],
   "source": [
    "nums = [1, 3, 5, 6]\n",
    "target = 5\n",
    "\n",
    "index = find_index(nums, target)\n",
    "\n",
    "print(index)\n"
   ]
  },
  {
   "cell_type": "markdown",
   "id": "eed61e60",
   "metadata": {},
   "source": [
    "Question 5**\n",
    "You are given a large integer represented as an integer array digits, where each\n",
    "digits[i] is the ith digit of the integer. The digits are ordered from most significant\n",
    "to least significant in left-to-right order. The large integer does not contain any\n",
    "leading 0's.\n",
    "\n",
    "Increment the large integer by one and return the resulting array of digits.\n",
    "\n",
    "**Example 1:**\n",
    "Input: digits = [1,2,3]\n",
    "Output: [1,2,4]\n",
    "\n",
    "**Explanation:** The array represents the integer 123.\n",
    "Incrementing by one gives 123 + 1 = 124.\n",
    "Thus, the result should be [1,2,4].\n",
    "\n",
    "</aside>"
   ]
  },
  {
   "cell_type": "code",
   "execution_count": 9,
   "id": "cec1c26d",
   "metadata": {},
   "outputs": [],
   "source": [
    "def increment_integer(digits):\n",
    "  \"\"\"Increments the large integer represented by the given array of digits.\n",
    "\n",
    "  Args:\n",
    "    digits: An array of integers representing the large integer.\n",
    "\n",
    "  Returns:\n",
    "    An array of integers representing the incremented large integer.\n",
    "  \"\"\"\n",
    "\n",
    "  carry = 1\n",
    "  for i in range(len(digits) - 1, -1, -1):\n",
    "    digits[i] += carry\n",
    "    carry = digits[i] // 10\n",
    "    digits[i] %= 10\n",
    "\n",
    "  if carry > 0:\n",
    "    digits.append(carry)\n",
    "\n",
    "  return digits\n"
   ]
  },
  {
   "cell_type": "code",
   "execution_count": 10,
   "id": "5a22b895",
   "metadata": {},
   "outputs": [
    {
     "name": "stdout",
     "output_type": "stream",
     "text": [
      "[1, 2, 4]\n"
     ]
    }
   ],
   "source": [
    "digits = [1, 2, 3]\n",
    "\n",
    "incremented_digits = increment_integer(digits)\n",
    "\n",
    "print(incremented_digits)\n"
   ]
  },
  {
   "cell_type": "markdown",
   "id": "79322644",
   "metadata": {},
   "source": [
    "Question 6\n",
    "Given a non-empty array of integers nums, every element appears twice except\n",
    "for one. Find that single one.\n",
    "\n",
    "You must implement a solution with a linear runtime complexity and use only\n",
    "constant extra space.\n",
    "\n",
    "Example 1:\n",
    "Input: nums = [2,2,1]\n",
    "Output: 1"
   ]
  },
  {
   "cell_type": "code",
   "execution_count": 11,
   "id": "5f937622",
   "metadata": {},
   "outputs": [],
   "source": [
    "def find_single_element(nums):\n",
    "  \"\"\"\n",
    "  Finds the single element in the array that appears only once.\n",
    "\n",
    "  Args:\n",
    "    nums: A list of integers.\n",
    "\n",
    "  Returns:\n",
    "    The single element in the array that appears only once.\n",
    "  \"\"\"\n",
    "\n",
    "  seen = set()\n",
    "  for num in nums:\n",
    "    if num in seen:\n",
    "      seen.remove(num)\n",
    "    else:\n",
    "      seen.add(num)\n",
    "\n",
    "  return seen.pop()\n"
   ]
  },
  {
   "cell_type": "code",
   "execution_count": 12,
   "id": "d6b88b99",
   "metadata": {},
   "outputs": [
    {
     "name": "stdout",
     "output_type": "stream",
     "text": [
      "1\n"
     ]
    }
   ],
   "source": [
    "nums = [2, 2, 1]\n",
    "\n",
    "single_element = find_single_element(nums)\n",
    "\n",
    "print(single_element)\n"
   ]
  },
  {
   "cell_type": "markdown",
   "id": "1e58ae53",
   "metadata": {},
   "source": [
    "Question 7\n",
    "You are given an inclusive range [lower, upper] and a sorted unique integer array\n",
    "nums, where all elements are within the inclusive range.\n",
    "\n",
    "A number x is considered missing if x is in the range [lower, upper] and x is not in\n",
    "nums.\n",
    "\n",
    "Return the shortest sorted list of ranges that exactly covers all the missing\n",
    "numbers. That is, no element of nums is included in any of the ranges, and each\n",
    "missing number is covered by one of the ranges.\n",
    "\n",
    "Example 1:\n",
    "Input: nums = [0,1,3,50,75], lower = 0, upper = 99\n",
    "Output: [[2,2],[4,49],[51,74],[76,99]]\n",
    "Explanation: The ranges are:\n",
    "[2,2]\n",
    "[4,49]\n",
    "[51,74]\n",
    "[76,99]\n"
   ]
  },
  {
   "cell_type": "code",
   "execution_count": 13,
   "id": "967e8f43",
   "metadata": {},
   "outputs": [],
   "source": [
    "def find_missing_ranges(nums, lower, upper):\n",
    "  \"\"\"\n",
    "  Finds the missing ranges in the array nums.\n",
    "\n",
    "  Args:\n",
    "    nums: A sorted unique integer array.\n",
    "    lower: The lower bound of the range.\n",
    "    upper: The upper bound of the range.\n",
    "\n",
    "  Returns:\n",
    "    A list of sorted ranges that cover all the missing numbers.\n",
    "  \"\"\"\n",
    "\n",
    "  ranges = []\n",
    "  prev = lower\n",
    "  for num in nums:\n",
    "    if num > prev + 1:\n",
    "      ranges.append([prev + 1, num - 1])\n",
    "    prev = num\n",
    "\n",
    "  if prev <= upper:\n",
    "    ranges.append([prev + 1, upper])\n",
    "\n",
    "  return sorted(ranges)\n"
   ]
  },
  {
   "cell_type": "code",
   "execution_count": 14,
   "id": "f5fa3a2c",
   "metadata": {},
   "outputs": [
    {
     "name": "stdout",
     "output_type": "stream",
     "text": [
      "[[2, 2], [4, 49], [51, 74], [76, 99]]\n"
     ]
    }
   ],
   "source": [
    "nums = [0, 1, 3, 50, 75]\n",
    "lower = 0\n",
    "upper = 99\n",
    "\n",
    "ranges = find_missing_ranges(nums, lower, upper)\n",
    "\n",
    "print(ranges)\n"
   ]
  },
  {
   "cell_type": "markdown",
   "id": "0eb0f600",
   "metadata": {},
   "source": [
    "Question 8\n",
    "Given an array of meeting time intervals where intervals[i] = [starti, endi],\n",
    "determine if a person could attend all meetings.\n",
    "\n",
    "Example 1:\n",
    "Input: intervals = [[0,30],[5,10],[15,20]]\n",
    "Output: false"
   ]
  },
  {
   "cell_type": "code",
   "execution_count": 17,
   "id": "131f8bfa",
   "metadata": {},
   "outputs": [],
   "source": [
    "def can_attend_all_meetings(intervals):\n",
    "  \"\"\"\n",
    "  Determines if a person could attend all meetings in the array intervals.\n",
    "\n",
    "  Args:\n",
    "    intervals: An array of meeting time intervals.\n",
    "\n",
    "  Returns:\n",
    "    True if a person could attend all meetings, False otherwise.\n",
    "  \"\"\"\n",
    "\n",
    "  intervals.sort()\n",
    "  prev_end = intervals[0][1]\n",
    "  for start, end in intervals[1:]:\n",
    "    if start < prev_end:\n",
    "      return False\n",
    "    prev_end = end\n",
    "\n",
    "  return True\n",
    "\n"
   ]
  },
  {
   "cell_type": "code",
   "execution_count": 18,
   "id": "5a4225e1",
   "metadata": {},
   "outputs": [
    {
     "name": "stdout",
     "output_type": "stream",
     "text": [
      "False\n"
     ]
    }
   ],
   "source": [
    "intervals = [[0, 30], [5, 10], [15, 20]]\n",
    "\n",
    "can_attend = can_attend_all_meetings(intervals)\n",
    "\n",
    "print(can_attend)\n"
   ]
  },
  {
   "cell_type": "code",
   "execution_count": null,
   "id": "d3cbb42d",
   "metadata": {},
   "outputs": [],
   "source": []
  }
 ],
 "metadata": {
  "kernelspec": {
   "display_name": "Python 3 (ipykernel)",
   "language": "python",
   "name": "python3"
  },
  "language_info": {
   "codemirror_mode": {
    "name": "ipython",
    "version": 3
   },
   "file_extension": ".py",
   "mimetype": "text/x-python",
   "name": "python",
   "nbconvert_exporter": "python",
   "pygments_lexer": "ipython3",
   "version": "3.9.13"
  }
 },
 "nbformat": 4,
 "nbformat_minor": 5
}
